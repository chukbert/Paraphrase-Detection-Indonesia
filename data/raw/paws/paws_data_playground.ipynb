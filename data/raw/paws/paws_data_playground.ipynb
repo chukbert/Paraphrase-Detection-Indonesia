{
 "cells": [
  {
   "cell_type": "code",
   "execution_count": 2,
   "metadata": {},
   "outputs": [
    {
     "name": "stdout",
     "output_type": "stream",
     "text": [
      "Positive percentage: 44.16% , 21997\n",
      "Negative percentage: 55.84% , 27815\n"
     ]
    }
   ],
   "source": [
    "import pandas as pd\n",
    "\n",
    "# Load the TSV file\n",
    "df = pd.read_csv(\"train.tsv\", sep=\"\\t\")\n",
    "\n",
    "# Calculate the percentage of labels\n",
    "positive_count = df[df['label'] == 1].shape[0]\n",
    "negative_count = df[df['label'] == 0].shape[0]\n",
    "total_count = df.shape[0]\n",
    "positive_percentage = (positive_count / total_count) * 100\n",
    "negative_percentage = (negative_count / total_count) * 100\n",
    "\n",
    "# Print the percentage of labels\n",
    "print(\"Positive percentage: {:.2f}% , {}\".format(positive_percentage, positive_count))\n",
    "print(\"Negative percentage: {:.2f}% , {}\".format(negative_percentage, negative_count))"
   ]
  },
  {
   "cell_type": "code",
   "execution_count": 2,
   "metadata": {},
   "outputs": [],
   "source": [
    "import pandas as pd\n",
    "\n",
    "df = pd.read_csv('train.tsv', sep='\\t')\n"
   ]
  },
  {
   "cell_type": "code",
   "execution_count": 3,
   "metadata": {},
   "outputs": [],
   "source": [
    "df = df[['sentence1', 'sentence2', 'label']]\n"
   ]
  },
  {
   "cell_type": "code",
   "execution_count": 4,
   "metadata": {},
   "outputs": [],
   "source": [
    "df.to_csv('../../processed/paws_train_translated_id.txt', sep='\\t', index=False)\n"
   ]
  },
  {
   "cell_type": "code",
   "execution_count": 19,
   "metadata": {},
   "outputs": [],
   "source": [
    "paws_test_df = pd.read_csv('test-final.tsv', sep='\\t', quotechar='^')"
   ]
  },
  {
   "cell_type": "code",
   "execution_count": 20,
   "metadata": {},
   "outputs": [
    {
     "data": {
      "text/html": [
       "<div>\n",
       "<style scoped>\n",
       "    .dataframe tbody tr th:only-of-type {\n",
       "        vertical-align: middle;\n",
       "    }\n",
       "\n",
       "    .dataframe tbody tr th {\n",
       "        vertical-align: top;\n",
       "    }\n",
       "\n",
       "    .dataframe thead th {\n",
       "        text-align: right;\n",
       "    }\n",
       "</style>\n",
       "<table border=\"1\" class=\"dataframe\">\n",
       "  <thead>\n",
       "    <tr style=\"text-align: right;\">\n",
       "      <th></th>\n",
       "      <th>id</th>\n",
       "      <th>sentence1</th>\n",
       "      <th>sentence2</th>\n",
       "      <th>label</th>\n",
       "    </tr>\n",
       "  </thead>\n",
       "  <tbody>\n",
       "  </tbody>\n",
       "</table>\n",
       "</div>"
      ],
      "text/plain": [
       "Empty DataFrame\n",
       "Columns: [id, sentence1, sentence2, label]\n",
       "Index: []"
      ]
     },
     "execution_count": 20,
     "metadata": {},
     "output_type": "execute_result"
    }
   ],
   "source": [
    "nan_values = paws_test_df[paws_test_df.isna().any(axis=1)]\n",
    "\n",
    "nan_values"
   ]
  },
  {
   "cell_type": "code",
   "execution_count": 21,
   "metadata": {},
   "outputs": [
    {
     "data": {
      "text/html": [
       "<div>\n",
       "<style scoped>\n",
       "    .dataframe tbody tr th:only-of-type {\n",
       "        vertical-align: middle;\n",
       "    }\n",
       "\n",
       "    .dataframe tbody tr th {\n",
       "        vertical-align: top;\n",
       "    }\n",
       "\n",
       "    .dataframe thead th {\n",
       "        text-align: right;\n",
       "    }\n",
       "</style>\n",
       "<table border=\"1\" class=\"dataframe\">\n",
       "  <thead>\n",
       "    <tr style=\"text-align: right;\">\n",
       "      <th></th>\n",
       "      <th>sentence1</th>\n",
       "      <th>sentence2</th>\n",
       "      <th>label</th>\n",
       "    </tr>\n",
       "  </thead>\n",
       "  <tbody>\n",
       "    <tr>\n",
       "      <th>0</th>\n",
       "      <td>Ini adalah serangkaian standar sudut bersarang...</td>\n",
       "      <td>Ini adalah rangkaian skala kutub bersarang, se...</td>\n",
       "      <td>0</td>\n",
       "    </tr>\n",
       "    <tr>\n",
       "      <th>1</th>\n",
       "      <td>Ayahnya beremigrasi ke Missouri pada tahun 186...</td>\n",
       "      <td>Ayahnya beremigrasi ke Amerika pada tahun 1868...</td>\n",
       "      <td>0</td>\n",
       "    </tr>\n",
       "    <tr>\n",
       "      <th>2</th>\n",
       "      <td>Pada Januari 2011, Wakil Sekretaris Jenderal F...</td>\n",
       "      <td>Pada Januari 2011, Wakil Sekretaris Jenderal F...</td>\n",
       "      <td>1</td>\n",
       "    </tr>\n",
       "    <tr>\n",
       "      <th>3</th>\n",
       "      <td>Steiner berargumen bahwa, dalam keadaan yang t...</td>\n",
       "      <td>Steiner berpendapat bahwa dunia spiritual dapa...</td>\n",
       "      <td>0</td>\n",
       "    </tr>\n",
       "    <tr>\n",
       "      <th>4</th>\n",
       "      <td>Luciano Williames Dias (lahir 25 Juli 1970) ad...</td>\n",
       "      <td>Luciano Williames Dias (lahir 25 Juli 1970) ad...</td>\n",
       "      <td>0</td>\n",
       "    </tr>\n",
       "    <tr>\n",
       "      <th>...</th>\n",
       "      <td>...</td>\n",
       "      <td>...</td>\n",
       "      <td>...</td>\n",
       "    </tr>\n",
       "    <tr>\n",
       "      <th>7995</th>\n",
       "      <td>Perusahaan ini memiliki cabang di Tokyo, yang ...</td>\n",
       "      <td>Perusahaan ini memiliki cabang di Tokyo yang b...</td>\n",
       "      <td>1</td>\n",
       "    </tr>\n",
       "    <tr>\n",
       "      <th>7996</th>\n",
       "      <td>Muara Teweh (disingkat MTW) adalah sebuah kota...</td>\n",
       "      <td>Teweh (disingkat: MTW) adalah sebuah kota yang...</td>\n",
       "      <td>0</td>\n",
       "    </tr>\n",
       "    <tr>\n",
       "      <th>7997</th>\n",
       "      <td>Lambang modern Bavaria dirancang oleh Eduard E...</td>\n",
       "      <td>Lambang modern Bavaria dirancang pada tahun 19...</td>\n",
       "      <td>1</td>\n",
       "    </tr>\n",
       "    <tr>\n",
       "      <th>7998</th>\n",
       "      <td>Mantan Presiden, Brenda Kuecks, menerima Pengh...</td>\n",
       "      <td>Pada 2013, mantan Presiden Brenda Kuecks mener...</td>\n",
       "      <td>0</td>\n",
       "    </tr>\n",
       "    <tr>\n",
       "      <th>7999</th>\n",
       "      <td>Hal ini terletak di dekat Point Pleasant Borou...</td>\n",
       "      <td>Dekat dengan wilayah Point Pleasant, sebuah ko...</td>\n",
       "      <td>1</td>\n",
       "    </tr>\n",
       "  </tbody>\n",
       "</table>\n",
       "<p>8000 rows × 3 columns</p>\n",
       "</div>"
      ],
      "text/plain": [
       "                                              sentence1  \\\n",
       "0     Ini adalah serangkaian standar sudut bersarang...   \n",
       "1     Ayahnya beremigrasi ke Missouri pada tahun 186...   \n",
       "2     Pada Januari 2011, Wakil Sekretaris Jenderal F...   \n",
       "3     Steiner berargumen bahwa, dalam keadaan yang t...   \n",
       "4     Luciano Williames Dias (lahir 25 Juli 1970) ad...   \n",
       "...                                                 ...   \n",
       "7995  Perusahaan ini memiliki cabang di Tokyo, yang ...   \n",
       "7996  Muara Teweh (disingkat MTW) adalah sebuah kota...   \n",
       "7997  Lambang modern Bavaria dirancang oleh Eduard E...   \n",
       "7998  Mantan Presiden, Brenda Kuecks, menerima Pengh...   \n",
       "7999  Hal ini terletak di dekat Point Pleasant Borou...   \n",
       "\n",
       "                                              sentence2  label  \n",
       "0     Ini adalah rangkaian skala kutub bersarang, se...      0  \n",
       "1     Ayahnya beremigrasi ke Amerika pada tahun 1868...      0  \n",
       "2     Pada Januari 2011, Wakil Sekretaris Jenderal F...      1  \n",
       "3     Steiner berpendapat bahwa dunia spiritual dapa...      0  \n",
       "4     Luciano Williames Dias (lahir 25 Juli 1970) ad...      0  \n",
       "...                                                 ...    ...  \n",
       "7995  Perusahaan ini memiliki cabang di Tokyo yang b...      1  \n",
       "7996  Teweh (disingkat: MTW) adalah sebuah kota yang...      0  \n",
       "7997  Lambang modern Bavaria dirancang pada tahun 19...      1  \n",
       "7998  Pada 2013, mantan Presiden Brenda Kuecks mener...      0  \n",
       "7999  Dekat dengan wilayah Point Pleasant, sebuah ko...      1  \n",
       "\n",
       "[8000 rows x 3 columns]"
      ]
     },
     "execution_count": 21,
     "metadata": {},
     "output_type": "execute_result"
    }
   ],
   "source": [
    "paws_test_df = paws_test_df[['sentence1', 'sentence2', 'label']]\n",
    "paws_test_df"
   ]
  },
  {
   "cell_type": "code",
   "execution_count": 22,
   "metadata": {},
   "outputs": [],
   "source": [
    "paws_test_df.to_csv('../../processed/paws_test_translated_id.txt', sep='\\t', index=False)\n"
   ]
  }
 ],
 "metadata": {
  "kernelspec": {
   "display_name": "nli",
   "language": "python",
   "name": "python3"
  },
  "language_info": {
   "codemirror_mode": {
    "name": "ipython",
    "version": 3
   },
   "file_extension": ".py",
   "mimetype": "text/x-python",
   "name": "python",
   "nbconvert_exporter": "python",
   "pygments_lexer": "ipython3",
   "version": "3.10.12"
  }
 },
 "nbformat": 4,
 "nbformat_minor": 2
}
