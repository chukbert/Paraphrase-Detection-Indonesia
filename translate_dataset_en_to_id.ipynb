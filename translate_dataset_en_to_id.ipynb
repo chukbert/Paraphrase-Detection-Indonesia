{
 "cells": [
  {
   "cell_type": "code",
   "execution_count": 28,
   "metadata": {},
   "outputs": [],
   "source": [
    "import pandas as pd\n",
    "\n",
    "msrp_path = 'data/raw/msrp/msr_paraphrase_train.txt'\n",
    "msrp_test_path = 'data/raw/msrp/msr_paraphrase_test.txt'\n",
    "\n",
    "msrp_df = pd.read_csv(msrp_path, sep='\\t', quotechar='^')\n",
    "msrp_test_df = pd.read_csv(msrp_test_path, sep='\\t', quotechar='^')"
   ]
  },
  {
   "cell_type": "code",
   "execution_count": 14,
   "metadata": {},
   "outputs": [],
   "source": [
    "def inspect(row):\n",
    "    print(row['#1 String'])\n",
    "    print(row['#2 String'])\n",
    "    print(row['sentence1'])\n",
    "    print(row['sentence2'])"
   ]
  },
  {
   "cell_type": "code",
   "execution_count": 8,
   "metadata": {},
   "outputs": [
    {
     "name": "stdout",
     "output_type": "stream",
     "text": [
      "Around 0335 GMT, Tab shares were up 19 cents, or 4.4%, at A$4.56, having earlier set a record high of A$4.57.\n",
      "Tab shares jumped 20 cents, or 4.6%, to set a record closing high at A$4.57.\n"
     ]
    }
   ],
   "source": [
    "inspect(msrp_df.loc[3])"
   ]
  },
  {
   "cell_type": "code",
   "execution_count": null,
   "metadata": {},
   "outputs": [],
   "source": [
    "import pandas as pd\n",
    "from googletrans import Translator\n",
    "import re\n",
    "\n",
    "translator = Translator()\n",
    "\n",
    "def translate_sentence(sentence):\n",
    "    result = translator.translate(sentence, dest='id')\n",
    "    result = re.sub(r'(\\b\\w+\\b) \\-\\1', r'\\1-\\1', result.text)\n",
    "    return result\n",
    "\n",
    "msrp_df_translated = pd.DataFrame(columns=['Quality', '#1 ID', '#2 ID', '#1 String', '#2 String', 'sentence1', 'sentence2'])\n",
    "\n",
    "for i in range(0, len(msrp_df), 10):\n",
    "    slice_df = msrp_df.iloc[i:i+10].copy()\n",
    "    slice_df['sentence1'] = slice_df['#1 String'].apply(translate_sentence)\n",
    "    slice_df['sentence2'] = slice_df['#2 String'].apply(translate_sentence)\n",
    "    msrp_df_translated = pd.concat([msrp_df_translated, slice_df], ignore_index=True)\n",
    "    print(i)\n",
    "    \n"
   ]
  },
  {
   "cell_type": "code",
   "execution_count": 21,
   "metadata": {},
   "outputs": [
    {
     "data": {
      "text/html": [
       "<div>\n",
       "<style scoped>\n",
       "    .dataframe tbody tr th:only-of-type {\n",
       "        vertical-align: middle;\n",
       "    }\n",
       "\n",
       "    .dataframe tbody tr th {\n",
       "        vertical-align: top;\n",
       "    }\n",
       "\n",
       "    .dataframe thead th {\n",
       "        text-align: right;\n",
       "    }\n",
       "</style>\n",
       "<table border=\"1\" class=\"dataframe\">\n",
       "  <thead>\n",
       "    <tr style=\"text-align: right;\">\n",
       "      <th></th>\n",
       "      <th>Quality</th>\n",
       "      <th>#1 ID</th>\n",
       "      <th>#2 ID</th>\n",
       "      <th>#1 String</th>\n",
       "      <th>#2 String</th>\n",
       "      <th>sentence1</th>\n",
       "      <th>sentence2</th>\n",
       "    </tr>\n",
       "  </thead>\n",
       "  <tbody>\n",
       "    <tr>\n",
       "      <th>1564</th>\n",
       "      <td>1</td>\n",
       "      <td>2630710</td>\n",
       "      <td>2630750</td>\n",
       "      <td>Rambus Inc. (nasdaq: RMBS - news - people) sho...</td>\n",
       "      <td>Rambus Inc. shot up almost 33 percent, making ...</td>\n",
       "      <td>Rambus Inc. (NASDAQ: RMBS - News - People) mel...</td>\n",
       "      <td>Rambus Inc. melonjak hampir 33 persen, menjadi...</td>\n",
       "    </tr>\n",
       "  </tbody>\n",
       "</table>\n",
       "</div>"
      ],
      "text/plain": [
       "     Quality    #1 ID    #2 ID  \\\n",
       "1564       1  2630710  2630750   \n",
       "\n",
       "                                              #1 String  \\\n",
       "1564  Rambus Inc. (nasdaq: RMBS - news - people) sho...   \n",
       "\n",
       "                                              #2 String  \\\n",
       "1564  Rambus Inc. shot up almost 33 percent, making ...   \n",
       "\n",
       "                                              sentence1  \\\n",
       "1564  Rambus Inc. (NASDAQ: RMBS - News - People) mel...   \n",
       "\n",
       "                                              sentence2  \n",
       "1564  Rambus Inc. melonjak hampir 33 persen, menjadi...  "
      ]
     },
     "execution_count": 21,
     "metadata": {},
     "output_type": "execute_result"
    }
   ],
   "source": [
    "result = msrp_df_translated[msrp_df_translated['sentence1'].str.contains('gainer terbesar', case=False, na=False)]\n",
    "result"
   ]
  },
  {
   "cell_type": "code",
   "execution_count": 25,
   "metadata": {},
   "outputs": [],
   "source": [
    "msrp_df_translated = msrp_df_translated[['sentence1', 'sentence2', 'Quality']].rename(columns={'Quality': 'label'})"
   ]
  },
  {
   "cell_type": "code",
   "execution_count": 27,
   "metadata": {},
   "outputs": [],
   "source": [
    "msrp_df_translated.to_csv('data/processed/msrp_train_translated_id.txt', sep='\\t', index=False)"
   ]
  },
  {
   "cell_type": "code",
   "execution_count": null,
   "metadata": {},
   "outputs": [],
   "source": [
    "import pandas as pd\n",
    "from googletrans import Translator\n",
    "import re\n",
    "\n",
    "translator = Translator()\n",
    "\n",
    "def translate_sentence(sentence):\n",
    "    result = translator.translate(sentence, dest='id')\n",
    "    result = re.sub(r'(\\b\\w+\\b) \\-\\1', r'\\1-\\1', result.text)\n",
    "    return result\n",
    "\n",
    "msrp_test_df_translated = pd.DataFrame(columns=['Quality', '#1 ID', '#2 ID', '#1 String', '#2 String', 'sentence1', 'sentence2'])\n",
    "\n",
    "for i in range(0, len(msrp_df), 10):\n",
    "    slice_df = msrp_test_df.iloc[i:i+10].copy()\n",
    "    slice_df['sentence1'] = slice_df['#1 String'].apply(translate_sentence)\n",
    "    slice_df['sentence2'] = slice_df['#2 String'].apply(translate_sentence)\n",
    "    msrp_test_df_translated = pd.concat([msrp_test_df_translated, slice_df], ignore_index=True)\n",
    "    print(i)\n",
    "    \n"
   ]
  },
  {
   "cell_type": "code",
   "execution_count": null,
   "metadata": {},
   "outputs": [],
   "source": [
    "for i in range(1380, len(msrp_df), 10):\n",
    "    slice_df = msrp_test_df.iloc[i:i+10].copy()\n",
    "    slice_df['sentence1'] = slice_df['#1 String'].apply(translate_sentence)\n",
    "    slice_df['sentence2'] = slice_df['#2 String'].apply(translate_sentence)\n",
    "    msrp_test_df_translated = pd.concat([msrp_test_df_translated, slice_df], ignore_index=True)\n",
    "    print(i)"
   ]
  },
  {
   "cell_type": "code",
   "execution_count": 33,
   "metadata": {},
   "outputs": [],
   "source": [
    "msrp_test_df_translated = msrp_test_df_translated[['sentence1', 'sentence2', 'Quality']].rename(columns={'Quality': 'label'})"
   ]
  },
  {
   "cell_type": "code",
   "execution_count": 34,
   "metadata": {},
   "outputs": [],
   "source": [
    "msrp_test_df_translated.to_csv('data/processed/msrp_test_translated_id.txt', sep='\\t', index=False)\n"
   ]
  },
  {
   "cell_type": "code",
   "execution_count": 1,
   "metadata": {},
   "outputs": [],
   "source": [
    "import pandas as pd\n",
    "\n",
    "df = pd.read_csv('data/processed/msrp_test_translated_id.txt', sep='\\t')"
   ]
  }
 ],
 "metadata": {
  "kernelspec": {
   "display_name": "skripsi",
   "language": "python",
   "name": "python3"
  },
  "language_info": {
   "codemirror_mode": {
    "name": "ipython",
    "version": 3
   },
   "file_extension": ".py",
   "mimetype": "text/x-python",
   "name": "python",
   "nbconvert_exporter": "python",
   "pygments_lexer": "ipython3",
   "version": "3.10.12"
  }
 },
 "nbformat": 4,
 "nbformat_minor": 2
}
